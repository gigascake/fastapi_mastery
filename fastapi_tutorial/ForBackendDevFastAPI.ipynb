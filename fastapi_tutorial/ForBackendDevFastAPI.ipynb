{
 "cells": [
  {
   "cell_type": "markdown",
   "id": "f7e4da83-d26f-4546-835f-eede30ba2904",
   "metadata": {},
   "source": [
    "## For Backend Developer, FastAPI developing on the MicroService"
   ]
  },
  {
   "cell_type": "markdown",
   "id": "2387d0c4-0d33-449e-8cfd-41f8b3eacf64",
   "metadata": {},
   "source": [
    "- Backend : FastAPI\n",
    "- Front : Svelte"
   ]
  },
  {
   "cell_type": "markdown",
   "id": "ab032a0d-0e7a-4a2e-9458-978c0c360a34",
   "metadata": {},
   "source": [
    "### Setup Guide"
   ]
  },
  {
   "cell_type": "markdown",
   "id": "3b488b6a-df8f-4b0d-87c1-62011b99b291",
   "metadata": {},
   "source": [
    "- mamba create -n fastapi -c conda-forge python=3.10 fastapi\n",
    "- conda activate fastapi\n",
    "- mamba install -c conda-forge ipykernel\n",
    "- mamba install -c conda-forge nodejs\n",
    "- $$ npm create vite@latest frontend -- --template svelte\n",
    "- cd frontend\n",
    "- npm install\n",
    "- npm run dev\n",
    "- pip install \"uvicorn[standard]\"\n",
    "- mamba install -c conda-forge sqlalchemy\n",
    "- mamba install -c conda-forge alembic\n",
    "- mamba install -c conda-forge sqlite\n"
   ]
  },
  {
   "cell_type": "markdown",
   "id": "3001ae68-4407-41d3-8fcc-dfec7add0f0e",
   "metadata": {},
   "source": [
    "### Usage\n",
    "#### Backend\n",
    "\n",
    "- $ /home/fastapi/.local/bin/uvicorn main:app --host 0.0.0.0 --port 38888 --reload\n",
    "\n",
    "#### frontend\n",
    "- (front 포트변경) node_modules/vite/dist/node/constants.js:120:const DEFAULT_DEV_PORT = 48888\n",
    "\n",
    "- $ cd /home/fastapi/fastapi_tutorial/projects/myapi/frontend/\n",
    "\n",
    "- $  npm run dev --  --host"
   ]
  },
  {
   "cell_type": "markdown",
   "id": "12e4b8d8-be16-4184-a3ae-4afac6322c32",
   "metadata": {},
   "source": [
    "### 타입스크립트 설정 끄기"
   ]
  },
  {
   "cell_type": "markdown",
   "id": "77cfb38f-4958-4113-84fe-07d5ba2e4a05",
   "metadata": {},
   "source": [
    "- myapi/frontend/jsconfig.json\n",
    "\n",
    "'''\n",
    "{ \"compilerOptions\": {\n",
    "\n",
    "/**\n",
    "* Typecheck JS in '.svelte' and '.js' files by default.\n",
    "* Disable this if you'd like to use dynamic types.\n",
    "*/\n",
    "\"checkJs\": false\n",
    "'''\n"
   ]
  },
  {
   "cell_type": "markdown",
   "id": "3333ad00-090a-40a6-a508-171f7754951f",
   "metadata": {},
   "source": [
    "### svelte-spa-router 설치하기\n",
    "- (frontend) % npm install svelte-spa-router"
   ]
  },
  {
   "cell_type": "markdown",
   "id": "2eb787b8-e96d-4a75-8a18-e07b2f48103c",
   "metadata": {},
   "source": [
    "### 부트스트랩 설치\n",
    "- frontend % npm install bootstrap\n"
   ]
  },
  {
   "cell_type": "markdown",
   "id": "d4f58e2e-c038-4aec-93d7-7c79b35c90b4",
   "metadata": {},
   "source": [
    "### moment 설치하기\n",
    "- dateformat 설정하는 패키지"
   ]
  },
  {
   "cell_type": "markdown",
   "id": "ac115f27-79c3-4453-9615-9b7d29637892",
   "metadata": {},
   "source": [
    "(frontend) % npm install moment"
   ]
  },
  {
   "cell_type": "markdown",
   "id": "80a1fb7c-194c-4d96-a2df-b2a4f683ddbd",
   "metadata": {},
   "source": [
    "### 'EmailStr'을 사용하기 위해서는 다음과 같이 email_validator 를 먼저 설치해야 한다.\n",
    "- % pip install \"pydantic[email]\""
   ]
  },
  {
   "cell_type": "markdown",
   "id": "4fd35f51-3872-4dd9-99d0-3276f92c6310",
   "metadata": {},
   "source": [
    "### passlib\n",
    "- 비밀번호 암호화 저장\n",
    "- https://passlib.readthedocs.io/en/stable/index.html\n",
    "- % pip install \"passlib[bcrypt]\"\n"
   ]
  },
  {
   "cell_type": "markdown",
   "id": "cfa71b88-aff1-422a-932b-1b4313eae7e2",
   "metadata": {},
   "source": [
    "### OAuth2PasswordRequestForm과 jwt를 사용하기 위한 라이브러리\n",
    "- (myapi3) % pip install python-multipart\n",
    "- (myapi3) % pip install \"python-jose[cryptography]\""
   ]
  },
  {
   "cell_type": "markdown",
   "id": "e331158a-1376-4aec-a388-dff135f5f11c",
   "metadata": {},
   "source": [
    "### JWT TOKEN 사용을 위한 3가지 정보\n",
    "- ACCESS_TOKEN_EXPIRE_MINUTES - 토큰의 유효끼깐을 의미한따. 분 단위로 설정한다.\n",
    "- SECRET_KEY - 암호화시 사용하는 64자리의 랜덤한 문자열\n",
    "- ALGORITHM - 토큰 생성시 사용하는 알고리즘을 의미하여 여기서는 HS256을 사용한다."
   ]
  },
  {
   "cell_type": "markdown",
   "id": "f17c4a5a-615c-4e71-b03a-2c3d5e8edfb9",
   "metadata": {},
   "source": [
    "### SECRET_KEY 생성하기\n",
    "- 1) % openssl rand -hex 32\n",
    "- 2) '>>>' import secrets\n",
    "-     '>>>' secrets.token_hex(32)"
   ]
  },
  {
   "cell_type": "markdown",
   "id": "1dadccb9-481b-4b72-8dfc-fe7f70e5842c",
   "metadata": {},
   "source": [
    "### qs 모듈 설치\n",
    "- 'Content-Type: application/json' convert to 'Content-Type: application/x-www-form-urlencoded'\n",
    "\n",
    "- (frontend) % npm install qs"
   ]
  },
  {
   "cell_type": "markdown",
   "id": "d0eedb32-603b-41b0-997a-bd705e331f0e",
   "metadata": {},
   "source": [
    "### 마크다운 설치 with Svelte\n",
    "\n",
    "- (frontend) % npm install marked"
   ]
  },
  {
   "cell_type": "markdown",
   "id": "5463e97d-1247-4ac0-afdd-802bf55d3d6b",
   "metadata": {},
   "source": [
    "### Gunicorn 설치하고 사용하기\n",
    "- (myapi3) $ pip install gunicorn\n",
    "\n",
    "#### port 방식으로 연결하기\n",
    "- (myapi3) $ gunicorn --bind 0:8000 main:app --worker-class uvicorn.workers.UvicornWorker\n",
    "\n",
    "#### Unix Socker으로 연결하기 \n",
    "- (myapi3) $ gunicorn --bind unix:/tmp/myapi3.sock main:app --worker-class uvicorn.workers.UvicornWorker\n"
   ]
  },
  {
   "cell_type": "markdown",
   "id": "f9ba5e33-c335-4081-ad96-1e99868c1fa6",
   "metadata": {},
   "source": [
    "#### Gunicorn 서비스등록하기"
   ]
  },
  {
   "cell_type": "code",
   "execution_count": 6,
   "id": "ffcde98f-91ce-49c4-a5b2-34d42717f2eb",
   "metadata": {
    "execution": {
     "iopub.execute_input": "2023-04-06T06:33:26.711485Z",
     "iopub.status.busy": "2023-04-06T06:33:26.710769Z",
     "iopub.status.idle": "2023-04-06T06:33:26.715670Z",
     "shell.execute_reply": "2023-04-06T06:33:26.715114Z",
     "shell.execute_reply.started": "2023-04-06T06:33:26.711459Z"
    },
    "tags": []
   },
   "outputs": [
    {
     "data": {
      "text/plain": [
       "'\\n[Unit]\\nDescription=gunicorn daemon\\nAfter=network.target\\n\\n[Service]\\nUser=ubuntu\\nGroup=ubuntu\\nWorkingDirectory=/home/ubuntu/projects/myapi3\\nExecStart=/home/ubuntu/venvs/myapi/bin/gunicorn         main:app         --workers 2         --worker-class uvicorn.workers.UvicornWorker         --bind unix:/tmp/myapi3.sock\\n        \\n[Install]\\nWantedBy=multi-user.target\\n'"
      ]
     },
     "execution_count": 6,
     "metadata": {},
     "output_type": "execute_result"
    }
   ],
   "source": [
    "'''\n",
    "[Unit]\n",
    "Description=gunicorn daemon\n",
    "After=network.target\n",
    "\n",
    "[Service]\n",
    "User=ubuntu\n",
    "Group=ubuntu\n",
    "WorkingDirectory=/home/ubuntu/projects/myapi3\n",
    "ExecStart=/home/ubuntu/venvs/myapi/bin/gunicorn \\\n",
    "        main:app \\\n",
    "        --workers 2 \\\n",
    "        --worker-class uvicorn.workers.UvicornWorker \\\n",
    "        --bind unix:/tmp/myapi3.sock\n",
    "        \n",
    "[Install]\n",
    "WantedBy=multi-user.target\n",
    "'''"
   ]
  },
  {
   "cell_type": "markdown",
   "id": "93fafa30-dbf5-484c-9937-7b87f8b36c48",
   "metadata": {},
   "source": [
    "## Nginx 설치"
   ]
  },
  {
   "cell_type": "markdown",
   "id": "12b36cec-2cc3-4e7f-8dad-47576473c507",
   "metadata": {},
   "source": [
    "- (myapi) $ sudo apt install nginx\n"
   ]
  },
  {
   "cell_type": "markdown",
   "id": "bbe109e1-1f82-443f-aa97-35412db54b12",
   "metadata": {},
   "source": [
    "## Nginx 설정"
   ]
  },
  {
   "cell_type": "markdown",
   "id": "6b6dcf96-dc34-4f0e-988e-c582fedd469c",
   "metadata": {},
   "source": [
    "- cd /etc/nginx/sites-available/\n",
    "- sudo nano myapi"
   ]
  },
  {
   "cell_type": "code",
   "execution_count": 3,
   "id": "90a45652-0c65-43a4-b963-001812080cd8",
   "metadata": {
    "execution": {
     "iopub.execute_input": "2023-04-06T06:25:27.484031Z",
     "iopub.status.busy": "2023-04-06T06:25:27.483567Z",
     "iopub.status.idle": "2023-04-06T06:25:27.488439Z",
     "shell.execute_reply": "2023-04-06T06:25:27.487717Z",
     "shell.execute_reply.started": "2023-04-06T06:25:27.484007Z"
    }
   },
   "outputs": [
    {
     "data": {
      "text/plain": [
       "'\\nserver {\\n    listen 80;\\n    server_name 3.37.58.70;\\n    \\n    location = /favicon.ico { access_log off; log_not_found off; }\\n    \\n    location / {\\n        include proxy_params;\\n        proxy_pass http://unix:/tmp/myapi3.sock;\\n    }\\n}\\n'"
      ]
     },
     "execution_count": 3,
     "metadata": {},
     "output_type": "execute_result"
    }
   ],
   "source": [
    "'''\n",
    "server {\n",
    "    listen 80;\n",
    "    server_name 3.37.58.70;\n",
    "    \n",
    "    location = /favicon.ico { access_log off; log_not_found off; }\n",
    "    \n",
    "    location / {\n",
    "        include proxy_params;\n",
    "        proxy_pass http://unix:/tmp/myapi3.sock;\n",
    "    }\n",
    "}\n",
    "'''"
   ]
  },
  {
   "cell_type": "markdown",
   "id": "0f105622-a99f-4633-9594-56ccf31b9e01",
   "metadata": {},
   "source": [
    "#### site-enables 디렉터리는 site-available 디렉터리에 있는 설정 파일 중에서 활성화하고 싶은 것을 링크로 관리하는 디렉터리\n",
    "- cd /etc/nginx/sites-enabled/"
   ]
  },
  {
   "cell_type": "markdown",
   "id": "b334b1c9-9a88-4d69-882e-ac14734189d5",
   "metadata": {},
   "source": [
    "- $ ls\n",
    "\n",
    "- $ sudo rm default\n",
    "\n",
    "- $ sudo ln -s /etc/nginx/sites-available/myapi3\n"
   ]
  },
  {
   "cell_type": "markdown",
   "id": "e8f881c2-eb81-486c-9b11-3a6df629544e",
   "metadata": {},
   "source": [
    "- $ sudo systemctl restart ngninx"
   ]
  },
  {
   "cell_type": "markdown",
   "id": "8d53970d-96e5-46d0-891a-6f0b4a58ad97",
   "metadata": {},
   "source": [
    "## 서버에 로깅 적용하기"
   ]
  },
  {
   "cell_type": "code",
   "execution_count": 5,
   "id": "a3ce7ee2-1754-4724-861b-7cedf9d2cf63",
   "metadata": {
    "execution": {
     "iopub.execute_input": "2023-04-06T06:33:10.241429Z",
     "iopub.status.busy": "2023-04-06T06:33:10.240767Z",
     "iopub.status.idle": "2023-04-06T06:33:10.245795Z",
     "shell.execute_reply": "2023-04-06T06:33:10.245243Z",
     "shell.execute_reply.started": "2023-04-06T06:33:10.241403Z"
    }
   },
   "outputs": [
    {
     "data": {
      "text/plain": [
       "'\\n[Unit]\\nDescription=gunicorn daemon\\nAfter=network.target\\n\\n[Service]\\nUser=ubuntu\\nGroup=ubuntu\\nWorkingDirectory=/home/ubuntu/projects/myapi3\\nExecStart=/home/ubuntu/venvs/myapi/bin/gunicorn         main:app         --workers 2         --worker-class uvicorn.workers.UvicornWorker         --bind unix:/tmp/myapi3.sock         --log-config /home/ubuntu/projects/myapi3/logs/uvicorn_log.ini\\n        \\n[Install]\\nWantedBy=multi-user.target\\n'"
      ]
     },
     "execution_count": 5,
     "metadata": {},
     "output_type": "execute_result"
    }
   ],
   "source": [
    "'''\n",
    "[Unit]\n",
    "Description=gunicorn daemon\n",
    "After=network.target\n",
    "\n",
    "[Service]\n",
    "User=ubuntu\n",
    "Group=ubuntu\n",
    "WorkingDirectory=/home/ubuntu/projects/myapi3\n",
    "ExecStart=/home/ubuntu/venvs/myapi/bin/gunicorn \\\n",
    "        main:app \\\n",
    "        --workers 2 \\\n",
    "        --worker-class uvicorn.workers.UvicornWorker \\\n",
    "        --bind unix:/tmp/myapi3.sock \\\n",
    "        --log-config /home/ubuntu/projects/myapi3/logs/uvicorn_log.ini\n",
    "        \n",
    "[Install]\n",
    "WantedBy=multi-user.target\n",
    "'''"
   ]
  },
  {
   "cell_type": "markdown",
   "id": "345c8724-0346-424a-b6d2-194b61f91b1a",
   "metadata": {},
   "source": [
    "## Gunicorn 로깅 설정 파일 만들기\n",
    "- /home/ubuntu/projects/myapi/logs/uvicorn_log.ini\n"
   ]
  },
  {
   "cell_type": "code",
   "execution_count": 7,
   "id": "480d754c-ed84-4db6-b2e4-d79eee91f283",
   "metadata": {
    "execution": {
     "iopub.execute_input": "2023-04-06T06:37:30.505977Z",
     "iopub.status.busy": "2023-04-06T06:37:30.505625Z",
     "iopub.status.idle": "2023-04-06T06:37:30.510421Z",
     "shell.execute_reply": "2023-04-06T06:37:30.509862Z",
     "shell.execute_reply.started": "2023-04-06T06:37:30.505950Z"
    }
   },
   "outputs": [
    {
     "data": {
      "text/plain": [
       "\"\\n[loggers]\\nkeys=root\\n\\n[handlers]\\nkeys=logfile\\n\\n[formatters]\\nkeys=logfileformmater\\n\\n[logger_root]\\nlevel=DEBUG\\n\\n[formatter_logfileformatter]\\nformat=[%(asctime)s.%(msecs)03d] %(levelname)s [%(thread)d] - %(message)s\\n\\n[handler_logfile]\\nclass=handlers.RotatingFileHandler\\nlevel=DEBUG\\nargs=('logs/myapi3.log', 'a')\\nformatter=logfileformatter\\n\\n\""
      ]
     },
     "execution_count": 7,
     "metadata": {},
     "output_type": "execute_result"
    }
   ],
   "source": [
    "'''\n",
    "[loggers]\n",
    "keys=root\n",
    "\n",
    "[handlers]\n",
    "keys=logfile\n",
    "\n",
    "[formatters]\n",
    "keys=logfileformmater\n",
    "\n",
    "[logger_root]\n",
    "level=DEBUG\n",
    "\n",
    "[formatter_logfileformatter]\n",
    "format=[%(asctime)s.%(msecs)03d] %(levelname)s [%(thread)d] - %(message)s\n",
    "\n",
    "[handler_logfile]\n",
    "class=handlers.RotatingFileHandler\n",
    "level=DEBUG\n",
    "args=('logs/myapi3.log', 'a')\n",
    "formatter=logfileformatter\n",
    "\n",
    "'''"
   ]
  },
  {
   "cell_type": "markdown",
   "id": "24e01012-a8b6-4e2f-8976-fb14fff20cbc",
   "metadata": {},
   "source": [
    "#### Gunicorn 로그레벨\n",
    "- DEBUG\n",
    "- INFO\n",
    "- WARNING\n",
    "- ERROR\n",
    "- CRITICAL\n"
   ]
  },
  {
   "cell_type": "markdown",
   "id": "115618cf-0bdf-4fb2-b726-e32b74c7b6e9",
   "metadata": {},
   "source": [
    "## Nginx 로그 설정"
   ]
  },
  {
   "cell_type": "code",
   "execution_count": 8,
   "id": "efba9145-b20e-4d8d-b790-e8d7c7e1a168",
   "metadata": {
    "execution": {
     "iopub.execute_input": "2023-04-06T06:41:12.426858Z",
     "iopub.status.busy": "2023-04-06T06:41:12.426535Z",
     "iopub.status.idle": "2023-04-06T06:41:12.431872Z",
     "shell.execute_reply": "2023-04-06T06:41:12.431126Z",
     "shell.execute_reply.started": "2023-04-06T06:41:12.426834Z"
    }
   },
   "outputs": [
    {
     "data": {
      "text/plain": [
       "'\\nserver {\\n    listen 80;\\n    server_name 3.37.58.70;\\n    \\n    location = /favicon.ico { asccess_log off; log_not_found off; }\\n    \\n    location / {\\n        access_log /home/ubuntu/projects/myapi3/logs/nginx_access.log;\\n        error_log /home/ubuntu/projects/myapi3/logs/nginx_error.log\\n        \\n        include proxy_params;\\n        proxy_pass http://unix:/tmp/myapi3.sock;\\n    }\\n}\\n'"
      ]
     },
     "execution_count": 8,
     "metadata": {},
     "output_type": "execute_result"
    }
   ],
   "source": [
    "'''\n",
    "server {\n",
    "    listen 80;\n",
    "    server_name 3.37.58.70;\n",
    "    \n",
    "    location = /favicon.ico { asccess_log off; log_not_found off; }\n",
    "    \n",
    "    location / {\n",
    "        access_log /home/ubuntu/projects/myapi3/logs/nginx_access.log;\n",
    "        error_log /home/ubuntu/projects/myapi3/logs/nginx_error.log\n",
    "        \n",
    "        include proxy_params;\n",
    "        proxy_pass http://unix:/tmp/myapi3.sock;\n",
    "    }\n",
    "}\n",
    "'''"
   ]
  },
  {
   "cell_type": "markdown",
   "id": "b3b44824-12f1-491e-b5d3-d9eea8e7679d",
   "metadata": {},
   "source": [
    "- $ sudo systemctl restart nginx"
   ]
  },
  {
   "cell_type": "markdown",
   "id": "523970a5-140a-4b03-a8bd-a2deae8c0a74",
   "metadata": {},
   "source": [
    "## SSL 적용하기\n",
    "### Let's Encrypt 인증서 설치"
   ]
  },
  {
   "cell_type": "markdown",
   "id": "c59b1097-391a-4029-9185-20363d24f11d",
   "metadata": {},
   "source": [
    "- $ sudo apt install certbot\n",
    "\n",
    "- $ sudo apt install python3-certbot-nginx"
   ]
  },
  {
   "cell_type": "markdown",
   "id": "8e4fe7f6-7d1b-4217-a2c9-a322b50a7a2e",
   "metadata": {
    "execution": {
     "iopub.execute_input": "2023-04-06T06:44:28.831830Z",
     "iopub.status.busy": "2023-04-06T06:44:28.831506Z",
     "iopub.status.idle": "2023-04-06T06:44:28.834693Z",
     "shell.execute_reply": "2023-04-06T06:44:28.834173Z",
     "shell.execute_reply.started": "2023-04-06T06:44:28.831807Z"
    }
   },
   "source": [
    "### Let's Encrypt 인증서 발급"
   ]
  },
  {
   "cell_type": "markdown",
   "id": "48cd7875-0032-4cd8-8b7e-4b5260f6d0e2",
   "metadata": {},
   "source": [
    "- $ sudo certbot certonly --nginx"
   ]
  },
  {
   "cell_type": "markdown",
   "id": "05d87070-a30d-4d91-8ff5-0122c83190c1",
   "metadata": {},
   "source": [
    "- ['SSL인증서매뉴얼']('https://wikidocs.net/177320')"
   ]
  },
  {
   "cell_type": "markdown",
   "id": "99c9b4d9-aebf-4d95-97fe-1ee38b51614d",
   "metadata": {},
   "source": [
    "## PostgreSQL 연동"
   ]
  },
  {
   "cell_type": "markdown",
   "id": "5d21cfe0-61fc-4130-8780-6a1849666229",
   "metadata": {},
   "source": [
    "### 서버에 PostgreSQl 클라이언트 설치하기"
   ]
  },
  {
   "cell_type": "markdown",
   "id": "2f22a44d-aed5-4be7-8ed9-7d86fae6f2f4",
   "metadata": {},
   "source": [
    "- $ sudo apt install postgresql-client"
   ]
  },
  {
   "cell_type": "markdown",
   "id": "3f64fa0f-3c3f-4a8a-995a-531b7dea0b68",
   "metadata": {},
   "source": [
    "### fastapi postgresql 접속모듈 (sync type) 설치 : psycopg2\n",
    "- $ pip install psycopg2-binary"
   ]
  },
  {
   "cell_type": "markdown",
   "id": "3b18a5ba-1bfa-4b46-849d-cbbfbb5e54b6",
   "metadata": {},
   "source": [
    "접속정보 변경\n",
    "- target file : /home/ubuntu/projects/myapi3/aembic.ini\n",
    "\n"
   ]
  },
  {
   "cell_type": "code",
   "execution_count": 10,
   "id": "0c18cf89-04d0-44aa-8794-6f28f58190c7",
   "metadata": {
    "execution": {
     "iopub.execute_input": "2023-04-06T06:53:41.994164Z",
     "iopub.status.busy": "2023-04-06T06:53:41.993890Z",
     "iopub.status.idle": "2023-04-06T06:53:41.998476Z",
     "shell.execute_reply": "2023-04-06T06:53:41.997901Z",
     "shell.execute_reply.started": "2023-04-06T06:53:41.994141Z"
    }
   },
   "outputs": [
    {
     "data": {
      "text/plain": [
       "'\\n\\nsqlalchemy.url = postgresql://[dbuser]:[dbpassword]@[db_ip]/[database_name]\\n\\n'"
      ]
     },
     "execution_count": 10,
     "metadata": {},
     "output_type": "execute_result"
    }
   ],
   "source": [
    "'''\n",
    "\n",
    "sqlalchemy.url = postgresql://[dbuser]:[dbpassword]@[db_ip]/[database_name]\n",
    "\n",
    "'''"
   ]
  },
  {
   "cell_type": "markdown",
   "id": "a273241e-13ad-4620-9ac8-946487d17f16",
   "metadata": {},
   "source": [
    "- target  file : /home/ubuntu/projects/myapi3/.env"
   ]
  },
  {
   "cell_type": "code",
   "execution_count": 12,
   "id": "1feb7f72-e587-4545-a9b0-3f718c39670e",
   "metadata": {
    "execution": {
     "iopub.execute_input": "2023-04-06T06:54:42.937945Z",
     "iopub.status.busy": "2023-04-06T06:54:42.937637Z",
     "iopub.status.idle": "2023-04-06T06:54:42.942472Z",
     "shell.execute_reply": "2023-04-06T06:54:42.941880Z",
     "shell.execute_reply.started": "2023-04-06T06:54:42.937917Z"
    },
    "tags": []
   },
   "outputs": [
    {
     "data": {
      "text/plain": [
       "'\\nSQLALCHEMY_DATABASE_URL = postgresql://[dbuser]:[dbpassword]@[db_ip]/[database_name]\\n\\n'"
      ]
     },
     "execution_count": 12,
     "metadata": {},
     "output_type": "execute_result"
    }
   ],
   "source": [
    "'''\n",
    "SQLALCHEMY_DATABASE_URL = postgresql://[dbuser]:[dbpassword]@[db_ip]/[database_name]\n",
    "\n",
    "'''"
   ]
  },
  {
   "cell_type": "markdown",
   "id": "27ef4317-7254-4b17-ad8e-945e1eb7115c",
   "metadata": {},
   "source": [
    "- target file : /home/ubuntu/projects/myapi3/database.py"
   ]
  },
  {
   "cell_type": "code",
   "execution_count": 14,
   "id": "f6447a1a-63d8-4b61-a180-87d73ae37d70",
   "metadata": {
    "execution": {
     "iopub.execute_input": "2023-04-06T06:57:34.145759Z",
     "iopub.status.busy": "2023-04-06T06:57:34.145438Z",
     "iopub.status.idle": "2023-04-06T06:57:34.150539Z",
     "shell.execute_reply": "2023-04-06T06:57:34.149762Z",
     "shell.execute_reply.started": "2023-04-06T06:57:34.145736Z"
    },
    "tags": []
   },
   "outputs": [
    {
     "data": {
      "text/plain": [
       "'\\nif SQLALCHEMY_DATABASE_URL.startswith(\"sqlite\"):\\n    engine = create_engine(\\n        SQLALCHEMY_DATABASE_URL, connect_args= {\"check_same_thread\": False}\\n    )\\nelse:\\n    engine = create_engine(SQLALCHEMY_DATABASE_URL)\\n'"
      ]
     },
     "execution_count": 14,
     "metadata": {},
     "output_type": "execute_result"
    }
   ],
   "source": [
    "'''\n",
    "if SQLALCHEMY_DATABASE_URL.startswith(\"sqlite\"):\n",
    "    engine = create_engine(\n",
    "        SQLALCHEMY_DATABASE_URL, connect_args= {\"check_same_thread\": False}\n",
    "    )\n",
    "else:\n",
    "    engine = create_engine(SQLALCHEMY_DATABASE_URL)\n",
    "'''"
   ]
  },
  {
   "cell_type": "markdown",
   "id": "6b9bbaed-7e00-40a8-b075-3fe6e10a8c38",
   "metadata": {},
   "source": [
    "### 데이터베이스 변경으로 인한 기존 데이터베이스 환경 초기화"
   ]
  },
  {
   "cell_type": "markdown",
   "id": "cc649f9a-e399-4415-8cc6-4e82005cced9",
   "metadata": {},
   "source": [
    "- (myapi3) $ rm -rf migrations\n",
    "\n",
    "- (myapi3) $ rm myapi3.db\n",
    "\n",
    "- (myapi3) $ alembic init migrations"
   ]
  },
  {
   "cell_type": "markdown",
   "id": "9dfa4260-f51a-4021-8b53-739dc5cd01e1",
   "metadata": {},
   "source": [
    "- target file : /home/ubuntu/projects/myapi/migrations/env.py"
   ]
  },
  {
   "cell_type": "markdown",
   "id": "6d63ec5a-7119-4d00-87cb-060f83a4ae4b",
   "metadata": {},
   "source": [
    "'''\n",
    "\n",
    "import models\n",
    "target_metadata = models.Base.metadata\n",
    "\n",
    "'''"
   ]
  },
  {
   "cell_type": "markdown",
   "id": "9a92cd1c-5788-4601-988b-2a78ad9706e5",
   "metadata": {},
   "source": [
    "## SQLite DB 비동기 방식으로 사용하기\n",
    "\n",
    "- $ pip install aiosqlite"
   ]
  },
  {
   "cell_type": "markdown",
   "id": "853edd01-8765-438d-8df3-4b9ad65ba96c",
   "metadata": {},
   "source": [
    "- target file : /home/ubuntu/projects/myapi3/database.py"
   ]
  },
  {
   "cell_type": "code",
   "execution_count": 15,
   "id": "5797755b-a882-45b3-80d2-e031ce5b2fa1",
   "metadata": {
    "execution": {
     "iopub.execute_input": "2023-04-06T07:03:30.044154Z",
     "iopub.status.busy": "2023-04-06T07:03:30.043852Z",
     "iopub.status.idle": "2023-04-06T07:03:30.048977Z",
     "shell.execute_reply": "2023-04-06T07:03:30.048415Z",
     "shell.execute_reply.started": "2023-04-06T07:03:30.044128Z"
    }
   },
   "outputs": [
    {
     "data": {
      "text/plain": [
       "'\\nfrom sqlalchemy.ext.asyncio import create_async_engine, AsyncSession\\n\\nasync_engine = create_async_engine(\"sqlite+aiosqlite:///myapi3.db\")\\n\\nasync def get_async_db():\\n    db = AsyncSession(bind=async_engine)\\n    try:\\n        yield db\\n    finally:\\n        await db.close()\\n'"
      ]
     },
     "execution_count": 15,
     "metadata": {},
     "output_type": "execute_result"
    }
   ],
   "source": [
    "'''\n",
    "from sqlalchemy.ext.asyncio import create_async_engine, AsyncSession\n",
    "\n",
    "async_engine = create_async_engine(\"sqlite+aiosqlite:///myapi3.db\")\n",
    "\n",
    "async def get_async_db():\n",
    "    db = AsyncSession(bind=async_engine)\n",
    "    try:\n",
    "        yield db\n",
    "    finally:\n",
    "        await db.close()\n",
    "'''"
   ]
  },
  {
   "cell_type": "markdown",
   "id": "dc556a38-dccb-4b1b-9948-29a158b79a2c",
   "metadata": {},
   "source": [
    "- async 매뉴얼 : https://github.com/pahkey/fastapi-book/tree/async"
   ]
  },
  {
   "cell_type": "markdown",
   "id": "0f10e4e1-a92e-4982-ae8a-38f1cc4ee4ec",
   "metadata": {},
   "source": [
    "### fastapi postgresql 접속모듈 (sync type) 설치 : asyncpg"
   ]
  },
  {
   "cell_type": "markdown",
   "id": "a7a1b4b6-9197-4ef0-8d56-87fde77bfe66",
   "metadata": {},
   "source": [
    "- $ pip install asyncpg\n",
    "\n",
    "- postgresql+asyncpg 로 드라이버명세서 변경해서 사용, 나머지는 위와 동일"
   ]
  },
  {
   "cell_type": "markdown",
   "id": "280b1130-0295-4999-ba91-389ca0b060f7",
   "metadata": {
    "execution": {
     "iopub.execute_input": "2023-04-06T07:09:55.225939Z",
     "iopub.status.busy": "2023-04-06T07:09:55.225245Z",
     "iopub.status.idle": "2023-04-06T07:09:55.231236Z",
     "shell.execute_reply": "2023-04-06T07:09:55.230379Z",
     "shell.execute_reply.started": "2023-04-06T07:09:55.225911Z"
    }
   },
   "source": [
    "## backend api 성능정보\n",
    "- https://travisluong.medium.com/fastapi-vs-fastify-vs-spring-boot-vs-gin-benchmark-b672a5c39d6c\n",
    "\n"
   ]
  },
  {
   "cell_type": "code",
   "execution_count": 17,
   "id": "8ad65f0d-fae3-4230-b02c-1cf3d3fc5fc1",
   "metadata": {
    "execution": {
     "iopub.execute_input": "2023-04-06T07:10:05.873540Z",
     "iopub.status.busy": "2023-04-06T07:10:05.872863Z",
     "iopub.status.idle": "2023-04-06T07:10:05.879057Z",
     "shell.execute_reply": "2023-04-06T07:10:05.878351Z",
     "shell.execute_reply.started": "2023-04-06T07:10:05.873513Z"
    }
   },
   "outputs": [
    {
     "data": {
      "text/plain": [
       "'\\nSpring Boot + jdbc (7886 req/sec)\\nGo + pgx (7517 req/sec)\\nGo + pg + SetMaxOpenConns + SetMaxIdleConns (7388 req/sec)\\nFastAPI + asyncpg + ujson + gunicorn 8w (4831 req/sec)\\nFastify + pg + cluster mode 8w (without logging) (4622 req/sec)\\nFastAPI + asyncpg + ujson + gunicorn 4w (4401 req/sec)\\nFastAPI + asyncpg + gunicorn 4w + orjson (4193 req/sec)\\nExpress.js + pg + cluster mode 8w (4145 req/sec)\\nFastify + pg + cluster mode 8w (3417 req/sec)\\nGin + database/sql + lib/pq (2966 req/sec)\\nFastify + pg (without logging) (2750 req/sec)\\nFastify + pg (2184 req/sec)\\nExpress.js + pg (1931 req/sec)\\nFastAPI + asyncpg + uvicorn + orjson (1885 req/sec)\\nFastAPI + asyncpg + uvicorn + ujson (1711 req/sec)\\nFlask + psycopg2 + gunicorn 4w (1478 req/sec)\\nNest.js + Prisma (1184 req/sec)\\nFastAPI + psycopg2 + gunicorn 4w (989 req/sec)\\nFastAPI + asyncpg + gunicorn 4w (952 req/sec)\\nSpringBoot + JPA (844 req/sec)\\nFastAPI + psycopg2 + uvicorn + orjson (827 req/sec)\\nFlask + psycopg2 + flask run (705 req/sec)\\nFastAPI + SQLModel + gunicorn 4w (569 req/sec)\\nFlask + psycopg2 + gunicorn 1w (536 req/sec)\\nFastAPI + asyncpg + uvicorn (314 req/sec)\\nFastAPI + psycopg2 + uvicorn (308 req/sec)\\nFastAPI + databases + uvicorn (267 req/sec)\\nFastAPI + SQLModel + uvicorn (182 req/sec)\\n'"
      ]
     },
     "execution_count": 17,
     "metadata": {},
     "output_type": "execute_result"
    }
   ],
   "source": [
    "'''\n",
    "Spring Boot + jdbc (7886 req/sec)\n",
    "Go + pgx (7517 req/sec)\n",
    "Go + pg + SetMaxOpenConns + SetMaxIdleConns (7388 req/sec)\n",
    "FastAPI + asyncpg + ujson + gunicorn 8w (4831 req/sec)\n",
    "Fastify + pg + cluster mode 8w (without logging) (4622 req/sec)\n",
    "FastAPI + asyncpg + ujson + gunicorn 4w (4401 req/sec)\n",
    "FastAPI + asyncpg + gunicorn 4w + orjson (4193 req/sec)\n",
    "Express.js + pg + cluster mode 8w (4145 req/sec)\n",
    "Fastify + pg + cluster mode 8w (3417 req/sec)\n",
    "Gin + database/sql + lib/pq (2966 req/sec)\n",
    "Fastify + pg (without logging) (2750 req/sec)\n",
    "Fastify + pg (2184 req/sec)\n",
    "Express.js + pg (1931 req/sec)\n",
    "FastAPI + asyncpg + uvicorn + orjson (1885 req/sec)\n",
    "FastAPI + asyncpg + uvicorn + ujson (1711 req/sec)\n",
    "Flask + psycopg2 + gunicorn 4w (1478 req/sec)\n",
    "Nest.js + Prisma (1184 req/sec)\n",
    "FastAPI + psycopg2 + gunicorn 4w (989 req/sec)\n",
    "FastAPI + asyncpg + gunicorn 4w (952 req/sec)\n",
    "SpringBoot + JPA (844 req/sec)\n",
    "FastAPI + psycopg2 + uvicorn + orjson (827 req/sec)\n",
    "Flask + psycopg2 + flask run (705 req/sec)\n",
    "FastAPI + SQLModel + gunicorn 4w (569 req/sec)\n",
    "Flask + psycopg2 + gunicorn 1w (536 req/sec)\n",
    "FastAPI + asyncpg + uvicorn (314 req/sec)\n",
    "FastAPI + psycopg2 + uvicorn (308 req/sec)\n",
    "FastAPI + databases + uvicorn (267 req/sec)\n",
    "FastAPI + SQLModel + uvicorn (182 req/sec)\n",
    "'''"
   ]
  },
  {
   "cell_type": "code",
   "execution_count": null,
   "id": "a51462f4-8079-40f9-8de7-f5cad430264c",
   "metadata": {},
   "outputs": [],
   "source": []
  }
 ],
 "metadata": {
  "kernelspec": {
   "display_name": "fastapi",
   "language": "python",
   "name": "fastapi"
  },
  "language_info": {
   "codemirror_mode": {
    "name": "ipython",
    "version": 3
   },
   "file_extension": ".py",
   "mimetype": "text/x-python",
   "name": "python",
   "nbconvert_exporter": "python",
   "pygments_lexer": "ipython3",
   "version": "3.10.9"
  }
 },
 "nbformat": 4,
 "nbformat_minor": 5
}
