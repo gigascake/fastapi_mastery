{
 "cells": [
  {
   "cell_type": "code",
   "execution_count": 1,
   "id": "5992c325-d72b-406d-bb7f-e154c795e52a",
   "metadata": {},
   "outputs": [],
   "source": [
    "from models import Question, Answer\n",
    "from datetime import datetime\n",
    "q = Question(subject='pybo가 무엇인가요?', content='pybo에 대해서 알고 싶습니다.', create_date=datetime.now())"
   ]
  },
  {
   "cell_type": "code",
   "execution_count": 2,
   "id": "6e3a12f0-ecfd-4574-ad4b-dd0796a7ec3a",
   "metadata": {},
   "outputs": [
    {
     "data": {
      "text/plain": [
       "<models.Question at 0x7f3900433220>"
      ]
     },
     "execution_count": 2,
     "metadata": {},
     "output_type": "execute_result"
    }
   ],
   "source": [
    "q"
   ]
  },
  {
   "cell_type": "code",
   "execution_count": 3,
   "id": "d725c79d-f4d3-4d7f-bdd9-a6a4cf00d4b0",
   "metadata": {},
   "outputs": [],
   "source": [
    "from database import SessionLocal\n",
    "db = SessionLocal()\n",
    "db.add(q)\n",
    "db.commit()"
   ]
  },
  {
   "cell_type": "code",
   "execution_count": 4,
   "id": "4181e69c-5e5e-4384-8f57-d6b9214fbf1d",
   "metadata": {},
   "outputs": [
    {
     "data": {
      "text/plain": [
       "1"
      ]
     },
     "execution_count": 4,
     "metadata": {},
     "output_type": "execute_result"
    }
   ],
   "source": [
    "q.id"
   ]
  },
  {
   "cell_type": "code",
   "execution_count": 5,
   "id": "1f5399b8-2d49-4956-9f22-c85b292e09ea",
   "metadata": {},
   "outputs": [
    {
     "data": {
      "text/plain": [
       "1"
      ]
     },
     "execution_count": 5,
     "metadata": {},
     "output_type": "execute_result"
    }
   ],
   "source": [
    "q.id"
   ]
  },
  {
   "cell_type": "code",
   "execution_count": 7,
   "id": "6f00d4c4-c746-4cc0-bd8b-b098a09d2c51",
   "metadata": {},
   "outputs": [],
   "source": [
    "q = Question(subject='FastAPI 모델 질문입니다.', content='id는 자동으로 생성되나요?', create_date=datetime.now())\n",
    "db.add(q)\n",
    "db.commit()"
   ]
  },
  {
   "cell_type": "code",
   "execution_count": 8,
   "id": "8a0931df-ca72-4478-b73a-4b1dbaf86f0e",
   "metadata": {},
   "outputs": [
    {
     "data": {
      "text/plain": [
       "2"
      ]
     },
     "execution_count": 8,
     "metadata": {},
     "output_type": "execute_result"
    }
   ],
   "source": [
    "q.id"
   ]
  },
  {
   "cell_type": "code",
   "execution_count": 9,
   "id": "f04c3847-58ee-4c0f-a972-d43c818761d4",
   "metadata": {},
   "outputs": [
    {
     "data": {
      "text/plain": [
       "[<models.Question at 0x7f3900433220>, <models.Question at 0x7f38f0c84670>]"
      ]
     },
     "execution_count": 9,
     "metadata": {},
     "output_type": "execute_result"
    }
   ],
   "source": [
    "db.query(Question).all()"
   ]
  },
  {
   "cell_type": "code",
   "execution_count": 10,
   "id": "ceade2c1-117e-4351-ad1c-1bff6e22ca77",
   "metadata": {},
   "outputs": [
    {
     "data": {
      "text/plain": [
       "[<models.Question at 0x7f3900433220>]"
      ]
     },
     "execution_count": 10,
     "metadata": {},
     "output_type": "execute_result"
    }
   ],
   "source": [
    "db.query(Question).filter(Question.id==1).all()"
   ]
  },
  {
   "cell_type": "code",
   "execution_count": null,
   "id": "6bbfd1fd-3d5b-4457-8a6f-29f8b7496dba",
   "metadata": {},
   "outputs": [],
   "source": [
    "db.query"
   ]
  },
  {
   "cell_type": "markdown",
   "id": "cfc7d3d7-5c73-4084-80b6-efef8b4913ce",
   "metadata": {},
   "source": [
    "### 질문데이터 생성"
   ]
  },
  {
   "cell_type": "code",
   "execution_count": 1,
   "id": "07aaa4d2-9fe0-460c-ba61-c2d4e4da8341",
   "metadata": {
    "execution": {
     "iopub.execute_input": "2023-03-31T04:30:58.765595Z",
     "iopub.status.busy": "2023-03-31T04:30:58.765276Z",
     "iopub.status.idle": "2023-03-31T04:30:58.896563Z",
     "shell.execute_reply": "2023-03-31T04:30:58.895939Z",
     "shell.execute_reply.started": "2023-03-31T04:30:58.765567Z"
    }
   },
   "outputs": [],
   "source": [
    "from database import SessionLocal\n",
    "from models import Question\n",
    "from datetime import datetime"
   ]
  },
  {
   "cell_type": "code",
   "execution_count": 2,
   "id": "145a8b62-eddc-4f3e-ac13-69e8ef445ff0",
   "metadata": {
    "execution": {
     "iopub.execute_input": "2023-03-31T04:31:24.883370Z",
     "iopub.status.busy": "2023-03-31T04:31:24.882645Z",
     "iopub.status.idle": "2023-03-31T04:31:25.684495Z",
     "shell.execute_reply": "2023-03-31T04:31:25.683777Z",
     "shell.execute_reply.started": "2023-03-31T04:31:24.883344Z"
    }
   },
   "outputs": [],
   "source": [
    "db = SessionLocal()\n",
    "for i in range(300):\n",
    "    q = Question(subject='테스트 데이터입니다:[%03d]' % i, content='내용무', create_date=datetime.now())\n",
    "    db.add(q)\n",
    "                 \n",
    "    db.commit()"
   ]
  },
  {
   "cell_type": "code",
   "execution_count": null,
   "id": "2270445a-f5e0-4804-acd7-7ab80b8dd5e4",
   "metadata": {},
   "outputs": [],
   "source": []
  }
 ],
 "metadata": {
  "kernelspec": {
   "display_name": "fastapi",
   "language": "python",
   "name": "fastapi"
  },
  "language_info": {
   "codemirror_mode": {
    "name": "ipython",
    "version": 3
   },
   "file_extension": ".py",
   "mimetype": "text/x-python",
   "name": "python",
   "nbconvert_exporter": "python",
   "pygments_lexer": "ipython3",
   "version": "3.10.9"
  }
 },
 "nbformat": 4,
 "nbformat_minor": 5
}
