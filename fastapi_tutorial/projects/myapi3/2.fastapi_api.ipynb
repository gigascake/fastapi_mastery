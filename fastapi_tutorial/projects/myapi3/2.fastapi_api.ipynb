{
 "cells": [
  {
   "cell_type": "markdown",
   "id": "99a1ea3b-3841-4a0a-96eb-08c1513a3f6a",
   "metadata": {},
   "source": [
    "##  라우터"
   ]
  },
  {
   "cell_type": "markdown",
   "id": "f0041f31-2808-4344-9ea2-d63ef3f6bedc",
   "metadata": {},
   "source": [
    "## 의존성 주입"
   ]
  },
  {
   "cell_type": "markdown",
   "id": "aee4b98d-d4b1-40ed-a0a2-caaf29c88bc8",
   "metadata": {},
   "source": [
    "## Pydantic으로 하는 입출력 관리"
   ]
  },
  {
   "cell_type": "markdown",
   "id": "9318a529-dc98-437c-b72a-3572338e72d3",
   "metadata": {},
   "source": [
    "## CRUD  파일 작성ㅡ"
   ]
  },
  {
   "cell_type": "code",
   "execution_count": null,
   "id": "00c9a191-9eb7-49c9-b187-fc4868745c69",
   "metadata": {},
   "outputs": [],
   "source": []
  }
 ],
 "metadata": {
  "kernelspec": {
   "display_name": "fastapi",
   "language": "python",
   "name": "fastapi"
  },
  "language_info": {
   "codemirror_mode": {
    "name": "ipython",
    "version": 3
   },
   "file_extension": ".py",
   "mimetype": "text/x-python",
   "name": "python",
   "nbconvert_exporter": "python",
   "pygments_lexer": "ipython3",
   "version": "3.10.9"
  }
 },
 "nbformat": 4,
 "nbformat_minor": 5
}
